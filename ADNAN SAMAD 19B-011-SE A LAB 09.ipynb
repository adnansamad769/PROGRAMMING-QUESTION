{
 "cells": [
  {
   "cell_type": "code",
   "execution_count": 2,
   "metadata": {},
   "outputs": [
    {
     "name": "stdout",
     "output_type": "stream",
     "text": [
      "{'Adnan', 'Wahab', 'Ismail', 'Zain', 'Omer', 'Amjad'}\n"
     ]
    }
   ],
   "source": [
    "# Question no 01\n",
    "\n",
    "best_students = set()\n",
    "for i in range(5):\n",
    "    best_students.add('Adnan')\n",
    "    best_students.add('Omer')\n",
    "    best_students.add('Ismail')\n",
    "    best_students.add('Wahab')\n",
    "    best_students.add('Amjad')\n",
    "    best_students.add('Zain')\n",
    "print(best_students)"
   ]
  },
  {
   "cell_type": "code",
   "execution_count": 4,
   "metadata": {},
   "outputs": [
    {
     "name": "stdout",
     "output_type": "stream",
     "text": [
      "{'Adnan', 'Wahab', 'Ismail', 'Zain', 'Omer'}\n"
     ]
    }
   ],
   "source": [
    "# Question no 02\n",
    "\n",
    "students = {'Adnan','Wahab','Omer','Ismail','Zain','Ali','Zohaib'}\n",
    "\n",
    "students.remove('Ali')\n",
    "students.remove('Zohaib')\n",
    "print(students)"
   ]
  },
  {
   "cell_type": "code",
   "execution_count": 7,
   "metadata": {},
   "outputs": [
    {
     "name": "stdout",
     "output_type": "stream",
     "text": [
      "{'zinger', 'keema', 'vegitable', 'biryani'}\n",
      "{'keema', 'vegitable', 'biryani'}\n",
      "{'vegitable', 'biryani'}\n",
      "{'biryani'}\n",
      "set()\n"
     ]
    }
   ],
   "source": [
    "# Question no 03\n",
    "\n",
    "best_deshes = {'keema','biryani','zinger','bindi','vegitable'}\n",
    "for i in range(5):\n",
    "    best_deshes.pop()\n",
    "    print(best_deshes)"
   ]
  },
  {
   "cell_type": "code",
   "execution_count": 33,
   "metadata": {},
   "outputs": [
    {
     "name": "stdout",
     "output_type": "stream",
     "text": [
      "Enter the the itemdalda\n",
      "Enter the the itemdalda\n",
      "Enter the the itemoil\n",
      "Enter the the itemoil\n",
      "Enter the the itemoil\n",
      "Enter the the itemoil\n",
      "Enter the the itemoil\n",
      "Enter the the itemsoap\n",
      "Enter the the item\n",
      "\n",
      "\n",
      "The ammount of the dalda sold  2\n",
      "The ammount of the soap sold  1\n",
      "The ammount of the oil sold  5\n",
      "The maximum number of item sold are  5\n",
      "with price  2500\n",
      "The maximum number of item sold are  1\n",
      "with price  500\n"
     ]
    }
   ],
   "source": [
    "# Question No 04\n",
    "dalda = {1,2,3,4,5,6,7,8,9}\n",
    "lendalda = len(dalda)\n",
    "dalda_amount = 500\n",
    "\n",
    "soap = {1,2,3,4,5,6,7,8,9,10,11,12,13,14}\n",
    "lensoap = len(soap)\n",
    "soap_amount = 500\n",
    "\n",
    "oil = {1,2,3,4,5,6,7,8,9,10,11}\n",
    "lenoil = len(oil)\n",
    "oil_amount = 500\n",
    "\n",
    "shop = 'open'\n",
    "while shop == 'open':\n",
    "    item = str.lower(input(\"Enter the the item\"))\n",
    "    if item == 'dalda':\n",
    "        dalda.pop()\n",
    "        \n",
    "    elif item == 'soap':\n",
    "        soap.pop()\n",
    "        \n",
    "    elif item == 'oil':\n",
    "        oil.pop()\n",
    "    else:\n",
    "        break\n",
    "        \n",
    "lendalda_after = lendalda - len(dalda)\n",
    "lensoap_after = lensoap - len(soap)\n",
    "lenoil_after = lenoil - len(oil)\n",
    "print(\"\\n\")\n",
    "\n",
    "print(\"The ammount of the dalda sold \",lendalda_after)\n",
    "print(\"The ammount of the soap sold \",lensoap_after)\n",
    "print(\"The ammount of the oil sold \",lenoil_after)\n",
    "\n",
    "max_amount = max(lendalda_after,lensoap_after,lenoil_after)\n",
    "if max_amount == lendalda_after:\n",
    "    print(\"The maximum number of item sold are \",lendalda_after)\n",
    "    print(\"with price \",lendalda_after*dalda_amount)\n",
    "    \n",
    "elif max_amount == lensoap_after:\n",
    "    print(\"The maximum number of item sold are \",lensoap_after)\n",
    "    print(\"with price \",lensoap_after*soap_amount)\n",
    "    \n",
    "elif max_amount == lenoil_after:\n",
    "    print(\"The maximum number of item sold are \",lenoil_after)\n",
    "    print(\"with price \",lenoil_after*oil_amount)\n",
    "    \n",
    "min_amount = min(lendalda_after,lensoap_after,lenoil_after)\n",
    "\n",
    "if min_amount == lendalda_after:\n",
    "    print(\"The maximum number of item sold are \",lendalda_after)\n",
    "    print(\"with price \",lendalda_after*dalda_amount)\n",
    "    \n",
    "elif min_amount == lensoap_after:\n",
    "    print(\"The maximum number of item sold are \",lensoap_after)\n",
    "    print(\"with price \",lensoap_after*soap_amount)\n",
    "    \n",
    "elif min_amount == lenoil_after:\n",
    "    print(\"The maximum number of item sold are \",lenoil_after)\n",
    "    print(\"with price \",lenoil_after*oil_amount)"
   ]
  },
  {
   "cell_type": "code",
   "execution_count": 22,
   "metadata": {},
   "outputs": [
    {
     "name": "stdout",
     "output_type": "stream",
     "text": [
      "THOES WHO PLAY CRICKET ONLY  9\n",
      "THOES WHO PLAY HOCKEY ONLY  21\n"
     ]
    }
   ],
   "source": [
    "# Question No 05\n",
    "\n",
    "hockey_student = 21\n",
    "both = 10\n",
    "universal = 40\n",
    "\n",
    "cricket_only = universal - (both + hockey_student) \n",
    "print(\"THOES WHO PLAY CRICKET ONLY \",cricket_only)\n",
    "print(\"THOES WHO PLAY HOCKEY ONLY \",hockey_student)"
   ]
  },
  {
   "cell_type": "code",
   "execution_count": 28,
   "metadata": {},
   "outputs": [
    {
     "name": "stdout",
     "output_type": "stream",
     "text": [
      "Number of dog purchased only are 40\n",
      "Number of cat purchased only are  34\n",
      "Number of Fish purchased only are  2\n",
      "Total purchased were  291\n"
     ]
    }
   ],
   "source": [
    "# Question no 06\n",
    "\n",
    "dog_purchased = 83\n",
    "cat_purchased = 101\n",
    "fish_purchased = 22\n",
    "dog_cat = 31\n",
    "dog_fish = 6\n",
    "cat_fish = 8\n",
    "dog_cat_fish = 6\n",
    "other = 34\n",
    "\n",
    "dog_only = dog_purchased - dog_cat - dog_fish - dog_cat_fish\n",
    "print(\"Number of dog purchased only are\",dog_only)\n",
    "cat_only = cat_purchased - fish_purchased - dog_cat - cat_fish - dog_cat_fish\n",
    "print(\"Number of cat purchased only are \",cat_only)\n",
    "fish_only = fish_purchased - dog_fish - cat_fish - dog_cat_fish\n",
    "print(\"Number of Fish purchased only are \",fish_only)\n",
    "Total = dog_cat +dog_fish+cat_fish+dog_cat_fish+other+dog_purchased+cat_purchased+fish_purchased\n",
    "print(\"Total purchased were \",Total)"
   ]
  },
  {
   "cell_type": "code",
   "execution_count": null,
   "metadata": {},
   "outputs": [],
   "source": []
  }
 ],
 "metadata": {
  "kernelspec": {
   "display_name": "Python 3",
   "language": "python",
   "name": "python3"
  },
  "language_info": {
   "codemirror_mode": {
    "name": "ipython",
    "version": 3
   },
   "file_extension": ".py",
   "mimetype": "text/x-python",
   "name": "python",
   "nbconvert_exporter": "python",
   "pygments_lexer": "ipython3",
   "version": "3.7.3"
  }
 },
 "nbformat": 4,
 "nbformat_minor": 2
}
