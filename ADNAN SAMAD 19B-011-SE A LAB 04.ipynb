{
 "cells": [
  {
   "cell_type": "code",
   "execution_count": 17,
   "metadata": {},
   "outputs": [
    {
     "name": "stdout",
     "output_type": "stream",
     "text": [
      "feb\n"
     ]
    }
   ],
   "source": [
    "def month(mon):\n",
    "    month=['Jan','feb']\n",
    "    if mon>0 or mon<12:\n",
    "        print(month[mon])\n",
    "month(1)"
   ]
  },
  {
   "cell_type": "code",
   "execution_count": 6,
   "metadata": {},
   "outputs": [
    {
     "name": "stdout",
     "output_type": "stream",
     "text": [
      "Enter  the value of a =2\n",
      "Enter the value of the b =7\n",
      "Enter the value of the c =1\n",
      "-3.350781059358212\n",
      "-0.14921894064178787\n"
     ]
    }
   ],
   "source": [
    "# Question no 01  (DEALING WITH THE QUADRATIC FORMULA)\n",
    "\n",
    "import math\n",
    "\n",
    "a = int(input(\"Enter  the value of a =\"))     # ASSIGNING THE VALUES\n",
    "b= int(input(\"Enter the value of the b =\"))\n",
    "c = int(input(\"Enter the value of the c =\"))\n",
    "\n",
    "if 2*a == 0:                                 # USING IF CONDITION \n",
    "    print(\"There is no real solution \")\n",
    "\n",
    "else:\n",
    "    x1 = (-b+math.sqrt(b**2-(4*a*c)))/(2*a)  # WILL GENERATE THE TWO ANSWERS IF THE DENOMINATOR WILL NOT BE 0\n",
    "    x = (-b-math.sqrt(b**2-(4*a*c)))/(2*a)\n",
    "\n",
    "    print(x)                                # PRINTING \n",
    "    print(x1)\n",
    "    \n",
    "# TIME TAKEN TO COMPLETE ALMOST 1:30 MINUTES"
   ]
  },
  {
   "cell_type": "code",
   "execution_count": 8,
   "metadata": {},
   "outputs": [
    {
     "name": "stdout",
     "output_type": "stream",
     "text": [
      "Enter the first term  3\n",
      "Enter the common difference  6\n",
      "Enter the nth term  35\n",
      "the common diference is   207\n",
      "Do you want to continue\n",
      "YES\n",
      "Enter the nth term  45\n",
      "the common diference is   267\n",
      "Do you want to continue\n",
      "Yes\n",
      "Enter the nth term  96\n",
      "the common diference is   573\n",
      "Do you want to continue\n",
      "nO\n",
      "Thanks sir have a nice day \n"
     ]
    }
   ],
   "source": [
    "# Question no 02 (DEALING WITH THE RANGE FUNCTION)\n",
    "\n",
    "a = int(input(\"Enter the first term  \"))         # TAKING INPUT FROM THE USER\n",
    "d = int(input(\"Enter the common difference  \"))\n",
    "y = 'yes'                                       # MAKING THE CONDION TRUN BY DEFAULT\n",
    "\n",
    "for i in range (0,100):                        # USER CAN INPUT NTH NUMBER 100 TIME(RANGE FUNCTION) \n",
    "    if y == 'yes':\n",
    "    \n",
    "        n = int(input(\"Enter the nth term  \"))         #TAKING INPUT FROM USER\n",
    "        nt = (a + (n-1)*d)                             # FORMULA FOR FINDING NTH TERM\n",
    "        print(\"the common diference is  \",nt)          # PRINTING NTH TERM\n",
    "        print(\"Do you want to continue\")         \n",
    "        y = str.casefold(input())                      # CASEFOLD WILL CONVERT ALL THE UPPERCASE WORDS IN LOWERCASE\n",
    "                                                       # ASKING THE USER IS HE/SHE IS INTERESTED TO CONTINUE\n",
    "if y == 'no':\n",
    "    print(\"Thanks sir have a nice day \")               # IF USER INPUT NO... WILL GENERTE THE MESSAGE\n",
    "    \n",
    "else:\n",
    "    print(\"You entered wrong string\")               # IF USER INSERT SOMETHING ELSE SO WILL GENERATE THE GIVEN MESSAGE   \n",
    "    \n",
    "# TIME TAKEN TO COMPLETE ALMOST 1:30 MINUTS"
   ]
  },
  {
   "cell_type": "code",
   "execution_count": 14,
   "metadata": {},
   "outputs": [
    {
     "name": "stdout",
     "output_type": "stream",
     "text": [
      "Enter the word  MoM\n",
      "Yes the given word is palimdrome\n"
     ]
    }
   ],
   "source": [
    "# Question no 03 (DEALING WITH REVERSED FUNCTION)\n",
    "\n",
    "string = str.casefold(input(\"Enter the word  \"))    #  TAKING THE INPUT FROM USER\n",
    "reverse_string = string[::-1]                       # THIS WILL CONVERT THE GIVEN WORD INTO REVERSE FORM\n",
    "\n",
    "if reverse_string == string:                        # CONDITION.... THAT IF THE GIVEN WORD AND WORD \n",
    "    print(\"Yes the given word is palimdrome\")       # AFTER REVERSING ARE SAME PRINT THE MESSAGE\n",
    "    \n",
    "else:\n",
    "    print(\"No the gien word is no palimdrome\")      # OTHERWISE PRINT THE GIVEN MESSAGE\n",
    "    \n",
    "#__________OR THE SECEOND WAY OF REVERSING THE WORD__________\n",
    "\n",
    "# string = str.casefold(input(\"Enter the word  \"))\n",
    "# reverse_word = ''.join(reversed(string))\n",
    "# if reverse_string == string:\n",
    "#     print(\"Yes the given word is palimdrome\")\n",
    "    \n",
    "# else:\n",
    "#    print(\"No the gien word is no palimdrome\")\n",
    "\n",
    "# TIME TAKEN TO COMPLETE ALMOST 50 SECONDS"
   ]
  },
  {
   "cell_type": "code",
   "execution_count": 21,
   "metadata": {},
   "outputs": [
    {
     "name": "stdout",
     "output_type": "stream",
     "text": [
      "Enter name of the student Adnan Samad\n",
      "Enter father name of the student Mir Samad Khan\n",
      "Enter Roll No of the student  2223\n",
      "Enter the subject Maths  \n",
      "Enter the marks 98\n",
      "Enter the subject Computer\n",
      "Enter the marks 99\n",
      "Enter the subject physics\n",
      "Enter the marks 68\n",
      "Enter the subject English\n",
      "Enter the marks 68\n",
      "Enter the subject Urdu   \n",
      "Enter the marks 51\n",
      "\n",
      "\n",
      "--------------Intermidiate Examination Marksheet-----------------\n",
      "\n",
      "\n",
      "Name\t\t Adnan Samad\n",
      "\n",
      "Father Name\t Mir Samad Khan\n",
      "\n",
      "Roll No\t\t 2223\n",
      "\n",
      "\n",
      "subject             Total marks             Marks Obtain\n",
      "\n",
      " Maths   \t\t100\t\t\t 98\n",
      "\n",
      " Computer \t\t100\t\t\t 99\n",
      "\n",
      " physics \t\t100\t\t\t 68\n",
      "\n",
      " English \t\t100\t\t\t 68\n",
      "\n",
      " Urdu    \t\t100\t\t\t 51\n",
      "\n",
      "Grade A\n"
     ]
    }
   ],
   "source": [
    "# Question no 04\n",
    "\n",
    "name = str(input(\"Enter name of the student \"))\n",
    "f_name = str(input(\"Enter father name of the student \"))\n",
    "roll_no = int(input(\"Enter Roll No of the student  \"))\n",
    "total = 0\n",
    "\n",
    "slist=['','','','','']\n",
    "mlist=[0,0,0,0,0]\n",
    "\n",
    "for i in range(0,5):\n",
    "    \n",
    "    slist[i] = str(input(\"Enter the subject \"))\n",
    "    mlist[i] = eval(input(\"Enter the marks \"))\n",
    "    total = total + mlist[i]\n",
    "    \n",
    "print(\"\\n\")\n",
    "print(\"--------------Intermidiate Examination Marksheet-----------------\")\n",
    "print(\"\\n\")\n",
    "\n",
    "print(\"Name\\t\\t\",name)\n",
    "print(\"\\nFather Name\\t\",f_name)\n",
    "print(\"\\nRoll No\\t\\t\",roll_no)\n",
    "print(\"\\n\")\n",
    "print(\"subject             Total marks             Marks Obtain\")\n",
    "for i in range(0,5):\n",
    "    print(\"\\n\",slist[i],\"\\t\\t100\\t\\t\\t\",mlist[i])\n",
    "percentage = (total/500)*100\n",
    "\n",
    "if percentage >= 80:\n",
    "    print(\"\\nGrade A+\")\n",
    "\n",
    "elif percentage >= 70:\n",
    "    print(\"\\nGrade A\")\n",
    "    \n",
    "elif percentage >= 60:\n",
    "    print(\"\\nGrade B\")\n",
    "    \n",
    "elif percentage >= 50:\n",
    "    print(\"\\nGrade C\")\n",
    "    \n",
    "elif percentage >= 40:\n",
    "    print(\"\\nGrade D\")\n",
    "    \n",
    "else:\n",
    "    print(\"\\nFail\")\n"
   ]
  },
  {
   "cell_type": "code",
   "execution_count": 33,
   "metadata": {},
   "outputs": [
    {
     "name": "stdout",
     "output_type": "stream",
     "text": [
      "Enter the initial value 1\n",
      "Enter the final value 5\n",
      "1 2 3 4 5 \n",
      "\n",
      "2 4 6 8 10 \n",
      "\n",
      "3 6 9 12 15 \n",
      "\n",
      "4 8 12 16 20 \n",
      "\n",
      "5 10 15 20 25 \n",
      "\n"
     ]
    }
   ],
   "source": [
    "# Question no 05\n",
    "\n",
    "x = eval(input(\"Enter the initial value \"))\n",
    "y = eval(input(\"Enter the final value \"))\n",
    "\n",
    "for i in range(x,y+1):\n",
    "    for j in range(1,y+1):\n",
    "        k = i* j\n",
    "        print(k,end=' ')\n",
    "    print(\"\\n\")"
   ]
  },
  {
   "cell_type": "code",
   "execution_count": null,
   "metadata": {},
   "outputs": [],
   "source": []
  },
  {
   "cell_type": "code",
   "execution_count": null,
   "metadata": {},
   "outputs": [],
   "source": []
  }
 ],
 "metadata": {
  "kernelspec": {
   "display_name": "Python 3",
   "language": "python",
   "name": "python3"
  },
  "language_info": {
   "codemirror_mode": {
    "name": "ipython",
    "version": 3
   },
   "file_extension": ".py",
   "mimetype": "text/x-python",
   "name": "python",
   "nbconvert_exporter": "python",
   "pygments_lexer": "ipython3",
   "version": "3.7.3"
  }
 },
 "nbformat": 4,
 "nbformat_minor": 2
}
