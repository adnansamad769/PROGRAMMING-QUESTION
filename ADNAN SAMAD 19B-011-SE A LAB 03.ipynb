{
 "cells": [
  {
   "cell_type": "markdown",
   "metadata": {},
   "source": [
    "## LAB 03 (python operators)"
   ]
  },
  {
   "cell_type": "code",
   "execution_count": 4,
   "metadata": {},
   "outputs": [
    {
     "name": "stdout",
     "output_type": "stream",
     "text": [
      "The magnitude of the linear velocity with radius 0.5 is  5.0  m/s\n",
      "The magnitude of the linear velocity with radius 1 is  10  m/s\n",
      "The magnitude of the linear velocity with radius 2 is  5.0  m/s\n"
     ]
    }
   ],
   "source": [
    "# Question no 1 (Dealing with * operator)\n",
    "\n",
    "# assigning the valuees\n",
    "radius = 0.5\n",
    "radius2 = 1\n",
    "radius3 = 2\n",
    "angular_speed = 10\n",
    "\n",
    "# formula v = rw\n",
    "\n",
    "# calculating\n",
    "\n",
    "# for 0.5 meter\n",
    "\n",
    "linear_velocity = radius*angular_speed\n",
    "\n",
    "print(\"The magnitude of the linear velocity with radius 0.5 is \",linear_velocity,\" m/s\")\n",
    "\n",
    "# for 0.5 meter\n",
    "\n",
    "linear_velocity2 = radius2*angular_speed\n",
    "\n",
    "print(\"The magnitude of the linear velocity with radius 1 is \",linear_velocity2,\" m/s\")\n",
    "\n",
    "# for 0.5 meter\n",
    "\n",
    "linear_velocity3 = radius3*angular_speed\n",
    "\n",
    "print(\"The magnitude of the linear velocity with radius 2 is \",linear_velocity,\" m/s\")\n",
    "\n",
    "# Time taken Almost 3 minutes"
   ]
  },
  {
   "cell_type": "code",
   "execution_count": 8,
   "metadata": {},
   "outputs": [
    {
     "name": "stdout",
     "output_type": "stream",
     "text": [
      "The linear velocity with radius 5 cm is  2616.666666666667  m/s\n",
      "The linear velocity with radius 10 cm is   5233.333333333334  m/s\n"
     ]
    }
   ],
   "source": [
    "# Question no 2 (Dealing with * and / operator)\n",
    "radius1 = 5\n",
    "radius2 = 10\n",
    "angular_speed = (5000/60)*6.28  # answer is in radian/second\n",
    "\n",
    "# Now for the linear velocity\n",
    "# using the formula v = rw\n",
    "\n",
    "# first finding for radius 5\n",
    "\n",
    "linear_velocity = radius1*angular_speed\n",
    "\n",
    "# finding for radius 10\n",
    "\n",
    "linear_velocity2 = radius2*angular_speed\n",
    "\n",
    "# prining both\n",
    "\n",
    "print(\"The linear velocity with radius 5 cm is \",linear_velocity,\" m/s\")\n",
    "print(\"The linear velocity with radius 10 cm is  \",linear_velocity2,\" m/s\")\n",
    "\n",
    "# Time taken Almost 3 minutes"
   ]
  },
  {
   "cell_type": "code",
   "execution_count": 9,
   "metadata": {},
   "outputs": [
    {
     "name": "stdout",
     "output_type": "stream",
     "text": [
      "The angular velocity is  33.333333333333336  m/s\n"
     ]
    }
   ],
   "source": [
    "# Question no 3 (Dealing with * and / operator)\n",
    "\n",
    "# assigning the values\n",
    "radius = 30/100\n",
    "linear_velocity = 10\n",
    "\n",
    "# using the formula v = rw\n",
    "\n",
    "angular_velocity = linear_velocity/radius\n",
    "\n",
    "# printing\n",
    "\n",
    "print(\"The angular velocity is \",angular_velocity,\" m/s\")\n",
    "\n",
    "# Time taken Almost 2 minutes"
   ]
  },
  {
   "cell_type": "code",
   "execution_count": 1,
   "metadata": {},
   "outputs": [
    {
     "name": "stdout",
     "output_type": "stream",
     "text": [
      "The angular speed is  40.0  m/s\n"
     ]
    }
   ],
   "source": [
    "# Question no 4 (Dealing with * and / operators)\n",
    "\n",
    "# asigning values\n",
    "\n",
    "diameter = 50\n",
    "radius = (diameter/2)/100\n",
    "linear_speed = 10\n",
    "\n",
    "# using the formula v =rw\n",
    "\n",
    "angular_speed = linear_speed/radius\n",
    "\n",
    "# printing\n",
    "\n",
    "print(\"The angular speed is \",angular_speed,\" m/s\")\n",
    "\n",
    "# Time taken is Almost 2 minutes"
   ]
  },
  {
   "cell_type": "code",
   "execution_count": 12,
   "metadata": {},
   "outputs": [
    {
     "name": "stdout",
     "output_type": "stream",
     "text": [
      "The distance travel by the car is  25.120000000000005  meter\n"
     ]
    }
   ],
   "source": [
    "# Question no 5 (Dealing with * and / operator)\n",
    "\n",
    "# assigning values\n",
    "\n",
    "time = 10 \n",
    "radius = 20/100                 # radius is given in cm for meter divided by 100\n",
    "angular_speed = (120/60)*6.28   # multiplying it with 6.28 because we want answer in radian\n",
    "\n",
    "# finding distance by using formula v = rw and d = vt\n",
    "\n",
    "linear_velocity = radius * angular_speed\n",
    "\n",
    "distance = linear_velocity * time\n",
    "\n",
    "# printing\n",
    "\n",
    "print(\"The distance travel by the car is \",distance,\" meter\")\n",
    "\n",
    "# Time taken Almost 2 minutes \n"
   ]
  },
  {
   "cell_type": "code",
   "execution_count": 13,
   "metadata": {},
   "outputs": [
    {
     "name": "stdout",
     "output_type": "stream",
     "text": [
      "The distance travel by the car in next two hours is  120.0  m/h\n"
     ]
    }
   ],
   "source": [
    "# Question no 6 (Dealing with *,/ and + operataors)\n",
    "\n",
    "# assigning the values\n",
    "\n",
    "linear_velocity = 50\n",
    "acceration = 10\n",
    "time = 2\n",
    "\n",
    "# finding the distance of the car by using the formula s = vt + (1/2 at**2)\n",
    "\n",
    "distance = linear_velocity*time + (1/2*acceration*time**2)\n",
    "\n",
    "# printing\n",
    "\n",
    "print(\"The distance travel by the car in next two hours is \",distance,\" m/h\")\n",
    "\n",
    "# Time taken Almost 4 minutes\n",
    "# not confirm about formulas\n",
    "# confused about the formula given in the manual\n",
    "# not confirm either to find distance or uniform velocity ???? "
   ]
  },
  {
   "cell_type": "code",
   "execution_count": 15,
   "metadata": {},
   "outputs": [
    {
     "name": "stdout",
     "output_type": "stream",
     "text": [
      "The stone will hit the ground with the velocity  80.0 m/s\n"
     ]
    }
   ],
   "source": [
    "# Question no 7 (Dealing with *,/ and + operataors)\n",
    "\n",
    "# assigning the values\n",
    "\n",
    "import math\n",
    "\n",
    "height = 100\n",
    "initial_velocity = 0\n",
    "acceration = 32\n",
    "\n",
    "# finding the final velocity by using the formula v**2 - u**2 = 2as\n",
    "\n",
    "\n",
    "final_velocity = math.sqrt(2 * acceration * height + initial_velocity**2)\n",
    "\n",
    "# printing\n",
    "print(\"The stone will hit the ground with the velocity \",final_velocity,\"m/s\")\n",
    "\n",
    "# Time Taken almost 1 minutes\n",
    "# got error using sqrt.math which is  math.sqrt"
   ]
  }
 ],
 "metadata": {
  "kernelspec": {
   "display_name": "Python 3",
   "language": "python",
   "name": "python3"
  },
  "language_info": {
   "codemirror_mode": {
    "name": "ipython",
    "version": 3
   },
   "file_extension": ".py",
   "mimetype": "text/x-python",
   "name": "python",
   "nbconvert_exporter": "python",
   "pygments_lexer": "ipython3",
   "version": "3.7.3"
  }
 },
 "nbformat": 4,
 "nbformat_minor": 2
}
