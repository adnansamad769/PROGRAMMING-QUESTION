{
 "cells": [
  {
   "cell_type": "code",
   "execution_count": 32,
   "metadata": {},
   "outputs": [
    {
     "name": "stdout",
     "output_type": "stream",
     "text": [
      "The area of the cylinder is 100.53 cm²\n",
      "The volume of the cylinder is 113.10 cm³\n"
     ]
    }
   ],
   "source": [
    "# Question no 01 (DEALING WITH UDF)\n",
    "\n",
    "from math import pi                                              # IMPORTING PI\n",
    "\n",
    "def area_cylinder(radius,height):                                # USING UDF \n",
    "    \n",
    "    # radius = int(input(\"Enter the Radius of the cylinder  \"))  # IF ASK TO TAKE INPUT FROM USER THEN USE THESE CODELINES\n",
    "    # height = int(input(\"Enter the height of the cylinder  \"))  \n",
    "    \n",
    "    area_cylinder = (2*pi*radius*height + 2*pi*radius**2)       # FROMULA OF AREA OF THE CYLINDER (2*r*h*pi + 2*pi*r**2)\n",
    "    print(\"The area of the cylinder is {0:.{1}f} cm\\u00b2\".format(area_cylinder,2))  # USING THE FORMATNG TO PRINT ANSWER\n",
    "    \n",
    "area_cylinder(2,6)                                              # CALLING THE FUNCTION\n",
    "    \n",
    "def volume_cylinder(radius,height):\n",
    "    \n",
    "    # radius = int(input(\"Enter the Radius of the cylinder  \"))  # IF ASK TO TAKE INPUT FROM USER THEN USE THESE CODELINES\n",
    "    # height = int(input(\"Enter the height of the cylinder  \"))\n",
    "    \n",
    "    volume_cylinder = (pi*height*radius**2)                      # FROMULA OF VOLUME OF THE CYLINDER\n",
    "    print(\"The volume of the cylinder is {0:.{1}f} cm\\u00b3\".format(volume_cylinder,2))# USING THE FORMATNG TO PRINT ANSWER\n",
    "    \n",
    "volume_cylinder(3,4)                                             # CALLING THE FUNCTION\n",
    "    \n",
    "# TIME TAKEN TO COMPLETE ALMOST 5 MINUTES    "
   ]
  },
  {
   "cell_type": "code",
   "execution_count": 34,
   "metadata": {},
   "outputs": [
    {
     "name": "stdout",
     "output_type": "stream",
     "text": [
      "The area of the rectangle is 8.0 cm\n",
      "THE PRIMETER OF THE RECTANGLE IS 8.00 cm\n"
     ]
    }
   ],
   "source": [
    "# Question no 02 (DEALING WITH THE UDF)\n",
    "\n",
    "def area_rectangle(length,width):\n",
    "    \n",
    "    # length = int(input(\"Enter the length of the Rectangle  \"))  # IF ASK TO TAKE INPUT FROM USER THEN USE THESE CODELINES\n",
    "    # width = int(input(\"Enter the width of the Rectangle  \"))\n",
    "    \n",
    "    area_rectangle = (length*width)                                # FROMULA OF AREA OF THE RECTANGLE\n",
    "    \n",
    "    print(\"The area of the rectangle is {0:.{1}f} cm\".format(area_rectangle,1))\n",
    "    \n",
    "area_rectangle(2,4)                                              # CALLING THE FUNCTION\n",
    "\n",
    "def perimeter(length,width):\n",
    "    \n",
    "    # length = int(input(\"Enter the length of the Rectangle  \"))  # IF ASK TO TAKE INPUT FROM USER THEN USE THESE CODELINES\n",
    "    # width = int(input(\"Enter the width of the Rectangle  \"))\n",
    "    \n",
    "    perimeter_rectangle = 2*(length+width)                       # FROMULA OF PERIMETER OF THE RECTANGLE\n",
    "    \n",
    "    print(\"THE PRIMETER OF THE RECTANGLE IS {0:.{1}f} cm\".format(perimeter_rectangle,2))\n",
    "    \n",
    "perimeter(2,2)                                                  # CALLING THE FUNCTION\n",
    "\n",
    "# TIME TAKEN TO COMPLETE ALMOST 4 MINUTES"
   ]
  },
  {
   "cell_type": "code",
   "execution_count": 36,
   "metadata": {},
   "outputs": [
    {
     "name": "stdout",
     "output_type": "stream",
     "text": [
      "Enter the first term  3\n",
      "Enter the commn difference 6\n",
      "Enter the nth term  35\n",
      "The nth term is  207\n",
      "Do you want to continue \n",
      "Yes\n",
      "Enter the nth term  45\n",
      "The nth term is  267\n",
      "Do you want to continue \n",
      "96\n",
      "You input a wrong string\n"
     ]
    }
   ],
   "source": [
    "# Queston no 03(DEALING WITH UDF)\n",
    "\n",
    "def nth():\n",
    "    \n",
    "    a = int(input(\"Enter the first term  \"))                    # TAKING INPUT FROM THE USER\n",
    "    d = int(input(\"Enter the commn difference \"))\n",
    "    y = 'yes'                                                   # MAKING THE CONDION TRUN BY DEFAULT\n",
    "    \n",
    "    for i in range (0,100):                                     # USER CAN INPUT NTH NUMBER 100 TIME(RANGE FUNCTION)\n",
    "        if y == 'yes':\n",
    "            n = int(input(\"Enter the nth term  \"))              #TAKING INPUT FROM USER\n",
    "            nt = (a + (n-1)*d)                                  # FORMULA FOR FINDING NTH TERM\n",
    "            print(\"The nth term is \",nt)                        # PRINTING NTH TERM\n",
    "            print(\"Do you want to continue \")          \n",
    "            y = str.casefold(input())                   # CASEFOLD WILL CONVERT ALL THE UPPERCASE WORDS IN LOWERCASE\n",
    "                                                        # ASKING THE USER IS HE/SHE IS INTERESTED TO CONTINUE\n",
    "    if y == 'no':\n",
    "        print(\"Thanks sir have a nice day\")             # IF USER INPUT NO... WILL GENERTE THE MESSAGE\n",
    "    else:\n",
    "        print(\"You input a wrong string\")               # IF USER INSERT SOMETHING ELSE SO WILL GENERATE THE GIVEN MESSAGE\n",
    "        \n",
    "nth()                                                            # CALLING THE FUNCTION\n",
    "    \n",
    "#TIME TAKEN TO COMPLETE ALMOST 2 MINUTES"
   ]
  },
  {
   "cell_type": "code",
   "execution_count": 38,
   "metadata": {},
   "outputs": [
    {
     "name": "stdout",
     "output_type": "stream",
     "text": [
      "Enter the word  Civic\n",
      "Yes the given word is palimdrome\n"
     ]
    }
   ],
   "source": [
    "# Question No 04 (DALING WIT UDF)\n",
    "\n",
    "def palimdrome():\n",
    "    \n",
    "    string = str.casefold(input(\"Enter the word  \"))    #  TAKING THE INPUT FROM USER\n",
    "    reverse_string = string[::-1]                       # THIS WILL CONVERT THE GIVEN WORD INTO REVERSE FORM\n",
    "\n",
    "    if reverse_string == string:                        # CONDITION.... THAT IF THE GIVEN WORD AND WORD \n",
    "        print(\"Yes the given word is palimdrome\")       # AFTER REVERSING ARE SAME PRINT THE MESSAGE\n",
    "    \n",
    "    else:\n",
    "        print(\"No the gien word is no palimdrome\")      # OTHERWISE PRINT THE GIVEN MESSAGE\n",
    "    \n",
    "#__________OR THE SECEOND WAY OF REVERSING THE WORD__________\n",
    "\n",
    "    # string = str.casefold(input(\"Enter the word  \"))\n",
    "    # reverse_word = ''.join(reversed(string))\n",
    "    # if reverse_string == string:\n",
    "    #     print(\"Yes the given word is palimdrome\")\n",
    "    \n",
    "    # else:\n",
    "    #    print(\"No the gien word is no palimdrome\")\n",
    "\n",
    "palimdrome() \n",
    "    \n",
    "    # TIME TAKEN TO COMPLETE ALMOST 50 SECONDS"
   ]
  },
  {
   "cell_type": "code",
   "execution_count": 62,
   "metadata": {},
   "outputs": [
    {
     "name": "stdout",
     "output_type": "stream",
     "text": [
      "Enter name of the student Adnan Samad\n",
      "Enter father name of the student Mir Samad Khan\n",
      "Enter Roll No of the student  2223\n",
      "Enter the subject Maths  \n",
      "Enter the marks 98\n",
      "Enter the subject computer\n",
      "Enter the marks 99\n",
      "Enter the subject physics\n",
      "Enter the marks 68\n",
      "Enter the subject English\n",
      "Enter the marks 59\n",
      "Enter the subject Urdu   \n",
      "Enter the marks 52\n",
      "\n",
      "\n",
      "--------------Intermidiate Examination Marksheet-----------------\n",
      "\n",
      "\n",
      "Name\t\t Adnan Samad\n",
      "\n",
      "Father Name\t Mir Samad Khan\n",
      "\n",
      "Roll No\t\t 2223\n",
      "\n",
      "\n",
      "subject             Total marks             Marks Obtain\n",
      "\n",
      " Maths   \t\t100\t\t\t 98\n",
      "\n",
      " computer \t\t100\t\t\t 99\n",
      "\n",
      " physics \t\t100\t\t\t 68\n",
      "\n",
      " English \t\t100\t\t\t 59\n",
      "\n",
      " Urdu    \t\t100\t\t\t 52\n",
      "\n",
      " Grade A\n"
     ]
    }
   ],
   "source": [
    "# Question  no 05\n",
    "def marksheet():\n",
    "\n",
    "    name = str(input(\"Enter name of the student \"))\n",
    "    f_name = str(input(\"Enter father name of the student \"))\n",
    "    roll_no = int(input(\"Enter Roll No of the student  \"))\n",
    "    total = 0\n",
    "\n",
    "    slist=['','','','','']\n",
    "    mlist=[0,0,0,0,0]\n",
    "\n",
    "    for i in range(0,5):\n",
    "    \n",
    "        slist[i] = str(input(\"Enter the subject \"))\n",
    "        mlist[i] = eval(input(\"Enter the marks \"))\n",
    "        total = total + mlist[i]\n",
    "    \n",
    "    print(\"\\n\")\n",
    "    print(\"--------------Intermidiate Examination Marksheet-----------------\")\n",
    "    print(\"\\n\")\n",
    "\n",
    "    print(\"Name\\t\\t\",name)\n",
    "    print(\"\\nFather Name\\t\",f_name)\n",
    "    print(\"\\nRoll No\\t\\t\",roll_no)\n",
    "    print(\"\\n\")\n",
    "    print(\"subject             Total marks             Marks Obtain\")\n",
    "    for i in range(0,5):\n",
    "        print(\"\\n\",slist[i],\"\\t\\t100\\t\\t\\t\",mlist[i])\n",
    "    percentage = (total/500)*100\n",
    "\n",
    "    if percentage >= 80:\n",
    "        print(\"\\n Grade A+\")\n",
    "\n",
    "    elif percentage >= 70:\n",
    "        print(\"\\n Grade A\")\n",
    "    \n",
    "    elif percentage >= 60:\n",
    "        print(\"\\n Grade B\")\n",
    "    \n",
    "    elif percentage >= 50:\n",
    "        print(\"\\n Grade C\")\n",
    "    \n",
    "    elif percentage >= 40:\n",
    "        print(\"\\n Grade D\")\n",
    "    \n",
    "    else:\n",
    "        print(\"\\n Fail\")\n",
    "\n",
    "marksheet()"
   ]
  },
  {
   "cell_type": "code",
   "execution_count": 47,
   "metadata": {},
   "outputs": [
    {
     "name": "stdout",
     "output_type": "stream",
     "text": [
      "The final velocity according to the first law is  6 m/s\n",
      "The displacement is  0.2916666666666667  m\n",
      "the final velocity is 28 m/s\n"
     ]
    }
   ],
   "source": [
    "# Question no 06 (DEALING WITH UDF)\n",
    "\n",
    "def law1(initial_velocity,acceration,time):\n",
    "    \n",
    "    final_velocity = initial_velocity + acceration * time                               # FORMULA\n",
    "    print(\"The final velocity according to the first law is \",final_velocity,\"m/s\")     # PRINTING\n",
    "    \n",
    "law1(2,2,2)                                                                             # CALLING THE FUCTION\n",
    "\n",
    "def law2(initial_velocity,time,acceration):\n",
    "    \n",
    "    displacement = (initial_velocity * time + 1)/(2* acceration*time**2)                # FORMULA\n",
    "    print(\"The displacement is \",displacement,\" m\")                                     # PRINTING\n",
    "\n",
    "law2(3,2,3)                                                                             # CALLING THE FUCTION\n",
    "\n",
    "def law3(initial_velocity,displacement,acceration):\n",
    "    \n",
    "    final_velocity = initial_velocity**2+2*acceration*displacement                      # FORMULA\n",
    "    print(\"the final velocity is\",final_velocity,\"m/s\")                                 # PRINTING\n",
    "    \n",
    "law3(2,3,4)                                                                             # CALLING THE FUCTION\n",
    "\n",
    "# TIME TAKEN TO COMPLETE ALMOST 4 MINUTES"
   ]
  },
  {
   "cell_type": "code",
   "execution_count": 49,
   "metadata": {},
   "outputs": [
    {
     "name": "stdout",
     "output_type": "stream",
     "text": [
      "range of projectile motion is 69.28m\n",
      "Time taken by projectile motion is 4.95s\n",
      "Max height attained by projectile motion is  2881.20m\n"
     ]
    }
   ],
   "source": [
    "# Question no 07 (DEALING WITH UDF)\n",
    "\n",
    "from math import sin,radians                                                             # IMORTING\n",
    "\n",
    "\n",
    "def Projectile(g,vo,angle,):\n",
    "   \n",
    "    angle1=radians(angle)                                                               #CONVERTING ANGLE INTO RADIAN\n",
    "    \n",
    "    Range=(vo**2*sin(2*angle1))/g                                                       # FORMULA\n",
    "    print(\"range of projectile motion is {0:.{1}f}m\".format(Range,2))                   # PRINTING     \n",
    "    \n",
    "    time=(2*vo*sin(angle1))/g                                                           # FORMULA\n",
    "    print(\"Time taken by projectile motion is {0:.{1}f}s\".format(time,2))               # PRINTING \n",
    "    \n",
    "    Height=(vo**2*sin(angle1)**2)/2*g                                                   # FORMULA\n",
    "    print(\"Max height attained by projectile motion is  {0:.{1}f}m\".format(Height,2))   # PRINTING \n",
    "    \n",
    "Projectile(9.8,28,60)                                                                   # CALLING THE FUCTION\n",
    "\n",
    "# TIME TAKEN TO COMPLETE ALMOST 5 MINUTES"
   ]
  },
  {
   "cell_type": "code",
   "execution_count": 60,
   "metadata": {},
   "outputs": [
    {
     "data": {
      "text/plain": [
       "'nandA'"
      ]
     },
     "execution_count": 60,
     "metadata": {},
     "output_type": "execute_result"
    }
   ],
   "source": [
    "# question no 08 (DEALING WITH UDF)\n",
    "\n",
    "def name(name):                                  \n",
    "    \n",
    "    name = name[::-1]                          # rversing the name\n",
    "    return name                                # printing namae\n",
    "name('Adnan')                                  # Calling the function\n",
    "\n",
    "#def name(name):\n",
    "    \n",
    "#    name = ''.join(reversed(name))            # another way of reversing\n",
    "#    return name\n",
    "    \n",
    "#name('Samad')\n"
   ]
  },
  {
   "cell_type": "code",
   "execution_count": 96,
   "metadata": {},
   "outputs": [
    {
     "data": {
      "text/plain": [
       "['Q', 'i', 'u', 'n', 'q', 'v', 'm']"
      ]
     },
     "execution_count": 96,
     "metadata": {},
     "output_type": "execute_result"
    }
   ],
   "source": [
    "# Question no 09 (DEALING WITH UDF)\n",
    "\n",
    "def Encryption(original,step):\n",
    "    \n",
    "    Encrypted = []\n",
    "    cryptText = []\n",
    "    \n",
    "    uppercase=['A','B','C','D','E','F','G','H','I','J','K','L','M','N','O','P','Q','R','S','T','U','V','W','X','Y','Z']\n",
    "    lowercase=['a','b','c','d','e','f','g','h','i','j','k','l','m','n','o','p','q','r','s','t','u','v','w','x','y','z']\n",
    "    \n",
    "    for Letter in original:\n",
    "        if Letter in uppercase:\n",
    "            index = uppercase.index(Letter)\n",
    "            encrypting = (index+step)%26\n",
    "            cryptText.append(encrypting)\n",
    "            Encryption = uppercase[encrypting]\n",
    "            Encrypted.append(Encryption)\n",
    "            \n",
    "        if Letter in lowercase:\n",
    "            index = lowercase.index(Letter)\n",
    "            crypting = (index+step)%26\n",
    "            cryptText.append(crypting)\n",
    "            Encryption = lowercase[crypting]\n",
    "            Encrypted.append(Encryption)\n",
    "    return Encrypted\n",
    "\n",
    "Encryption('I am fine',8)            \n",
    "        "
   ]
  },
  {
   "cell_type": "code",
   "execution_count": 72,
   "metadata": {},
   "outputs": [
    {
     "name": "stdout",
     "output_type": "stream",
     "text": [
      "sin on 0 : 0.00\n",
      "cos on 0 : 1.00\n",
      "tan on 0 : 0.00\n",
      "sin on 30 : -0.99\n",
      "cos on 30 : 0.15\n",
      "tan on 30 : -6.41\n",
      "sin on 60 : -0.30\n",
      "cos on 60 : -0.95\n",
      "tan on 60 : 0.32\n",
      "sin on 90 : 0.89\n",
      "cos on 90 : -0.45\n",
      "tan on 90 : -2.00\n",
      "sin on 120 : 0.58\n",
      "cos on 120 : 0.81\n",
      "tan on 120 : 0.71\n",
      "sin on 150 : -0.71\n",
      "cos on 150 : 0.70\n",
      "tan on 150 : -1.02\n",
      "sin on 180 : -0.80\n",
      "cos on 180 : -0.60\n",
      "tan on 180 : 1.34\n"
     ]
    }
   ],
   "source": [
    "# Qustion no 10\n",
    "\n",
    "from math import sin,cos,tan\n",
    "\n",
    "def table(x,y):\n",
    "    \n",
    "    for i in range(x,y+30,30):\n",
    "        \n",
    "        print(\"sin on {0} : {1:.{2}f}\".format(i,sin(i),2))\n",
    "        print(\"cos on {0} : {1:.{2}f}\".format(i,cos(i),2))\n",
    "        print(\"tan on {0} : {1:.{2}f}\".format(i,tan(i),2))\n",
    "    \n",
    "table(0,180)"
   ]
  },
  {
   "cell_type": "code",
   "execution_count": null,
   "metadata": {},
   "outputs": [],
   "source": []
  }
 ],
 "metadata": {
  "kernelspec": {
   "display_name": "Python 3",
   "language": "python",
   "name": "python3"
  },
  "language_info": {
   "codemirror_mode": {
    "name": "ipython",
    "version": 3
   },
   "file_extension": ".py",
   "mimetype": "text/x-python",
   "name": "python",
   "nbconvert_exporter": "python",
   "pygments_lexer": "ipython3",
   "version": "3.7.3"
  }
 },
 "nbformat": 4,
 "nbformat_minor": 2
}
