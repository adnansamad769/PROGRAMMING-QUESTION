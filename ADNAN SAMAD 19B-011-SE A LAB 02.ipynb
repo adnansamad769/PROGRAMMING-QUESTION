{
 "cells": [
  {
   "cell_type": "markdown",
   "metadata": {},
   "source": [
    "## LAB 02 (Flowcharts and data types in python)"
   ]
  },
  {
   "cell_type": "code",
   "execution_count": 9,
   "metadata": {},
   "outputs": [
    {
     "name": "stdout",
     "output_type": "stream",
     "text": [
      "the different between days is  365\n"
     ]
    }
   ],
   "source": [
    "# question no 1(Calculating no of days between two dates)\n",
    "\n",
    "from datetime import date\n",
    "date1 = date(2019,12,30)\n",
    "date2 = date(2018,12,30)\n",
    "final_date = date1 - date2\n",
    "print(\"the different between days is \",final_date.days)\n",
    "\n",
    "# Time Taken Almost 2 Minutes"
   ]
  },
  {
   "cell_type": "code",
   "execution_count": 12,
   "metadata": {},
   "outputs": [
    {
     "name": "stdout",
     "output_type": "stream",
     "text": [
      "The height of the laddar with length 16 and angle 75 is  15.454813220625093\n",
      "The height of the laddar with length 20 and angle 0 is  0.0\n",
      "The height of the laddar with length 24 and angle 45 is  16.970562748477143\n",
      "The height of the laddar with length 24 and angle 80 is  23.63538607229299\n"
     ]
    }
   ],
   "source": [
    "# Question no 2 (computing the height of the ladder)\n",
    "\n",
    "from math import pi\n",
    "from math import sin\n",
    "\n",
    "length1 = 16\n",
    "length2 = 20\n",
    "length3 = 24\n",
    "length4 = 24\n",
    "\n",
    "angle1 = 75\n",
    "angle2 = 0\n",
    "angle3 = 45\n",
    "angle4 = 80\n",
    "\n",
    "# first we need to radian to calculate the height\n",
    "\n",
    "radian1 = pi * angle1/180\n",
    "radian2 = pi * angle2/180\n",
    "radian3 = pi * angle3/180\n",
    "radian4 = pi * angle4/180\n",
    "\n",
    "# Now we have to calculate height of the ladder at different angle and length\n",
    "\n",
    "height1 = length1 * sin(radian1)\n",
    "height2 = length2 * sin(radian2)\n",
    "height3 = length3 * sin(radian3)\n",
    "height4 = length4 * sin(radian4)\n",
    "\n",
    "print(\"The height of the laddar with length 16 and angle 75 is \",height1)\n",
    "print(\"The height of the laddar with length 20 and angle 0 is \",height2)\n",
    "print(\"The height of the laddar with length 24 and angle 45 is \",height3)\n",
    "print(\"The height of the laddar with length 24 and angle 80 is \",height4)\n",
    "\n",
    "# Time taken Almost 6:30 minutes"
   ]
  },
  {
   "cell_type": "code",
   "execution_count": 5,
   "metadata": {},
   "outputs": [
    {
     "name": "stdout",
     "output_type": "stream",
     "text": [
      "The middle index of the list is  5\n",
      "The middle Element of the list is  4\n",
      "The decending order of the list is  [9, 8, 7, 6, 5, 4, 3, 2, 1]\n",
      "After removing the first element and putting it in the end  [2, 3, 4, 5, 6, 7, 8, 9, 1]\n"
     ]
    }
   ],
   "source": [
    "# Question no 3 (using list operator and method)\n",
    "\n",
    "lst = [1,2,3,4,5,6,7,8,9]\n",
    "\n",
    "# Evaluating the index of the middle element of lst\n",
    "\n",
    "middle_index = int((len(lst)+1)/2)\n",
    "\n",
    "# Evaluating middle element of the lst\n",
    "\n",
    "middle_element = int(len(lst)/2)\n",
    "\n",
    "# Sorting the lst in decending order\n",
    "\n",
    "decending_order = lst[::-1]\n",
    "\n",
    "# removing first element and putting it in the end of the list\n",
    "\n",
    "removing = lst.remove(1)\n",
    "put_end = lst.insert(8,1)\n",
    "\n",
    "\n",
    "print(\"The middle index of the list is \",middle_index)\n",
    "print(\"The middle Element of the list is \",middle_element)\n",
    "print(\"The decending order of the list is \",decending_order)\n",
    "print(\"After removing the first element and putting it in the end \",lst)\n",
    "\n",
    "# time taken Almost 5 minutes"
   ]
  },
  {
   "cell_type": "code",
   "execution_count": 67,
   "metadata": {},
   "outputs": [
    {
     "name": "stdout",
     "output_type": "stream",
     "text": [
      "after inserting the Apr between Mar and May\t  ['Jan', 'Feb', 'Mar', 'Apr', 'May']\n",
      "after appending the Jun in the list\t  ['Jan', 'Feb', 'Mar', 'Apr', 'May', 'Jun']\n",
      "after poping the list  ['Jan', 'Feb', 'Mar', 'Apr', 'May']\n",
      "after Removing the second item from the list \t ['Jan', 'Mar', 'Apr', 'May']\n",
      "after reversing the order of the list \t ['May', 'Apr', 'Mar', 'Jan']\n",
      "after sorting the list \t  ['Apr', 'Jan', 'Mar', 'May']\n"
     ]
    }
   ],
   "source": [
    "# Question no 4 (Dealing with list and tuple)\n",
    "\n",
    "MonthL = ['Jan','Feb','Mar','May']   # List\n",
    "MonthT = ('Jan','Feb','Mar','May')   # Tuple\n",
    "\n",
    "\n",
    "\n",
    "# Insertint Apr between Mar and May\n",
    "\n",
    "MonthL.insert(3,'Apr')\n",
    "# MonthT.insert(3,'Apr')    You will get the error while inserting anything in tuple because tuple have no attribute insert\n",
    "print(\"after inserting the Apr between Mar and May\\t \",MonthL)\n",
    "\n",
    "\n",
    "\n",
    "# Appending Jun in in list and tuple\n",
    "\n",
    "MonthL.append('Jun')\n",
    "# MonthT.append('Jun')      You will get the error while appending values in the tuple because tuple have no attribute append\n",
    "print(\"after appending the Jun in the list\\t \",MonthL)\n",
    "\n",
    "\n",
    "\n",
    "# poping the list and tuple\n",
    "\n",
    "MonthL.pop()\n",
    "# MonthT.pop()              You will get the error while poping the tuple because the tuple have no attribute pop\n",
    "print(\"after poping the list \",MonthL)\n",
    "\n",
    "\n",
    "\n",
    "# Removing the second item of the container\n",
    "\n",
    "MonthL.pop(1)\n",
    "# MonthT.pop(1)             You will get the error while poping the tuple because the tuple  have no attribute pop\n",
    "print(\"after Removing the second item from the list \\t\",MonthL)\n",
    "\n",
    "\n",
    "\n",
    "# Reversing the item in the container \n",
    "\n",
    "MonthL.reverse()\n",
    "# MonthT = MonthT.reverse() You will get the error while usiing the reverse fuction with tuple because the tuple have no attribute reverse\n",
    "print(\"after reversing the order of the list \\t\",MonthL)\n",
    "\n",
    "\n",
    "\n",
    "# sorting the List and tuple\n",
    "\n",
    "MonthL.sort()\n",
    "# sort_Montht = MonthT.sort() You will ge the error while using sort attribut with the tuple because the tuple have noattribute  sort\n",
    "print(\"after sorting the list \\t \",MonthL)\n",
    "\n",
    "# Time taken Almost 10 minutes"
   ]
  },
  {
   "cell_type": "code",
   "execution_count": 86,
   "metadata": {},
   "outputs": [
    {
     "name": "stdout",
     "output_type": "stream",
     "text": [
      "The number of the character in the word anachronistically is  1 more then the character in the word counterintuitive\n",
      "\n",
      "\t\tAfter sorting \n",
      " ['misinterpretation', 'misrepresentation']\n",
      "\n",
      "The letter e appears  0 times in the word\n",
      "\n",
      "The number f the character in the word counterresolution is  17\n",
      "The number of the character in the word counter and resolution is  17\n",
      "The number of the character in the both words are equal\n"
     ]
    }
   ],
   "source": [
    "# Question no 5 (dealing with len and count function)\n",
    "\n",
    "word1 = 'anachronistically'\n",
    "word2 = 'counterintuitive'\n",
    "len_word1 = len(word1)\n",
    "len_word2 = len(word2)\n",
    "print(\"The number of the character in the word anachronistically is \",len_word1-len_word2,\"more then the character in the word counterintuitive\")\n",
    "\n",
    "\n",
    "words = ['misrepresentation','misinterpretation',]\n",
    "words.sort()\n",
    "print(\"\\n\\t\\tAfter sorting \\n\",words)\n",
    "\n",
    "word = 'floccinaucinihilipilification'\n",
    "count_e =  word.count('e')\n",
    "print(\"\\nThe letter e appears \",count_e,\"times in the word\")\n",
    "\n",
    "\n",
    "word3 = 'counterresolution'\n",
    "word4 = 'counter'\n",
    "word5 = 'resolution'\n",
    "\n",
    "print(\"\\nThe number f the character in the word counterresolution is \",len(word3))\n",
    "print(\"The number of the character in the word counter and resolution is \",str(len(word4)+len(word5)))\n",
    "print(\"The number of the character in the both words are equal\")\n",
    "\n",
    "# Time taken Almost 5 minutes"
   ]
  },
  {
   "cell_type": "code",
   "execution_count": 91,
   "metadata": {},
   "outputs": [
    {
     "name": "stdout",
     "output_type": "stream",
     "text": [
      "The average value of the aand b is  9.5\n",
      "['paper', 'stapls', 'pencils']\n",
      "John Fitzgerald Kennedy\n"
     ]
    }
   ],
   "source": [
    "# Question no 6 (dealing with sum function)\n",
    "\n",
    "a = 6\n",
    "b = 7\n",
    "c = a+b/2\n",
    "\n",
    "inventory = ['paper','stapls','pencils']\n",
    "first = 'John'\n",
    "middle = ' Fitzgerald'\n",
    "last = ' Kennedy'\n",
    "Full_Name = first + middle + last\n",
    "print(\"The average value of the aand b is \",c)\n",
    "print(inventory)\n",
    "print(Full_Name)\n",
    "\n",
    "# Time taken Almost 2 minutes"
   ]
  }
 ],
 "metadata": {
  "kernelspec": {
   "display_name": "Python 3",
   "language": "python",
   "name": "python3"
  },
  "language_info": {
   "codemirror_mode": {
    "name": "ipython",
    "version": 3
   },
   "file_extension": ".py",
   "mimetype": "text/x-python",
   "name": "python",
   "nbconvert_exporter": "python",
   "pygments_lexer": "ipython3",
   "version": "3.7.3"
  }
 },
 "nbformat": 4,
 "nbformat_minor": 2
}
