{
 "cells": [
  {
   "cell_type": "code",
   "execution_count": 16,
   "metadata": {},
   "outputs": [
    {
     "name": "stdout",
     "output_type": "stream",
     "text": [
      "Monday,February 10 2020\n",
      "03:54 PM Pakistan Standard Time on 02/10/20\n",
      "i will meet you on Mon Feb 10 at 03:54 PM\n"
     ]
    }
   ],
   "source": [
    "# Question no 1 (dealing Directive of date and time and there outputs)\n",
    "\n",
    "from time import strftime                             # importing\n",
    "# (a)\n",
    "\n",
    "print(strftime('%A,%B %d %Y'))\n",
    "#(b)\n",
    "print(strftime('%I:%M %p %Z on %D' ))\n",
    "# (c)\n",
    "print(strftime('i will meet you on %a %b %d at %I:%M %p'))"
   ]
  },
  {
   "cell_type": "code",
   "execution_count": 23,
   "metadata": {},
   "outputs": [
    {
     "name": "stdout",
     "output_type": "stream",
     "text": [
      "2\n",
      "13\n",
      "It will be a cloudy day  today\n"
     ]
    }
   ],
   "source": [
    "# Question no 02\n",
    "\n",
    "forecast = 'It will be a sunny day  today'\n",
    "\n",
    "#(a)\n",
    "print(forecast.count('day'))\n",
    "\n",
    "#(b)\n",
    "print(forecast.find('sunny'))\n",
    "\n",
    "#(c)\n",
    "print(forecast.replace('sunny','cloudy'))"
   ]
  },
  {
   "cell_type": "code",
   "execution_count": 30,
   "metadata": {},
   "outputs": [
    {
     "name": "stdout",
     "output_type": "stream",
     "text": [
      "2 3 4 6 8 9 10 12 14 15 16 "
     ]
    }
   ],
   "source": [
    "# Question no 03\n",
    "\n",
    "def even(x):\n",
    "    for i in range(2,x+1):\n",
    "        if i%2==0:\n",
    "            print(i,end=' ')\n",
    "        elif i%3==0:\n",
    "            print(i,end=' ')\n",
    "even(17)\n",
    "    "
   ]
  },
  {
   "cell_type": "code",
   "execution_count": 31,
   "metadata": {},
   "outputs": [
    {
     "name": "stdout",
     "output_type": "stream",
     "text": [
      "Syed Faisal Ali\n",
      "asst. Prof\n",
      "Department of comouter science\n",
      "UIT\n",
      "Gulshane Iqbal\n",
      "75300\n",
      "Karachi\n"
     ]
    }
   ],
   "source": [
    "# Question no 04\n",
    "\n",
    "def mailaddress(name,post,depart,institute,street,postcode,city):\n",
    "    \n",
    "    \n",
    "    print(\"{0}\\n{1}\\n{2}\\n{3}\\n{4}\\n{5}\\n{6}\".format(name,post,depart,institute,street,postcode,city))\n",
    "    \n",
    "mailaddress('Syed Faisal Ali','asst. Prof','Department of comouter science','UIT','Gulshane Iqbal','75300','Karachi')"
   ]
  },
  {
   "cell_type": "code",
   "execution_count": 49,
   "metadata": {},
   "outputs": [
    {
     "name": "stdout",
     "output_type": "stream",
     "text": [
      "DEC\n"
     ]
    }
   ],
   "source": [
    "# Question no 05\n",
    "\n",
    "def month(x):\n",
    "    \n",
    "    months = ['','JAN','FEB','MAR','APR','MAY','JUN','JULY','AUG','SEP','OCT','NOV','DEC']\n",
    "    print(months[x])\n",
    "month(12)"
   ]
  },
  {
   "cell_type": "code",
   "execution_count": 66,
   "metadata": {},
   "outputs": [
    {
     "name": "stdout",
     "output_type": "stream",
     "text": [
      "How do you spell winner?\n",
      "I know,I know!\n",
      "U I T I A N !\n",
      "And thats how you spell winner!\n",
      "Go  Uitian\n"
     ]
    }
   ],
   "source": [
    "# Question no 06\n",
    "\n",
    "def cheer(x):\n",
    "    \n",
    "    #xs= x.lower()\n",
    "    \n",
    "    print(\"How do you spell winner?\")\n",
    "    print(\"I know,I know!\")\n",
    "    for i in x:\n",
    "        print(i.upper(),end= (' '))\n",
    "    print(\"!\")\n",
    "    print(\"And thats how you spell winner!\")\n",
    "    print(\"Go \",x.title())\n",
    "    \n",
    "cheer('UITIAN')"
   ]
  },
  {
   "cell_type": "code",
   "execution_count": 77,
   "metadata": {},
   "outputs": [
    {
     "name": "stdout",
     "output_type": "stream",
     "text": [
      "Enter the name Adnan Samad\n",
      "Enter the Type of Burger Zzinger\n",
      "Enter the Quantity of Burger 2\n",
      "Enter the rate of the Burger 200\n",
      "\n",
      "\t\t\t\tLOS RESTURENT\n",
      "\t\t\tVisite our website for\n",
      "\t\t\t\tonline shoping\n",
      "\t\t\t\twww.losres.com\n",
      "\t\t*****************************\n",
      "\t\tName:\t\t Adnan Samad\n",
      "\t\tBurger\t\t Zzinger\n",
      "\t\tTime\t\t 05:12 PM\n",
      "\t\t*****************************\n",
      "\t\tQuantity of burger\t\t 2\n",
      "\t\tprice of the burger\t\t 200\n",
      "\t\tGST 13%\t\t 52.0\n",
      "\t\tTotal \t\t\t 348.0\n",
      "\t\t*****************************\n",
      "\t\tTHANK YOU FOR SHOPPING\n"
     ]
    }
   ],
   "source": [
    "# Question no 07\n",
    "\n",
    "from time import strftime\n",
    "\n",
    "def pos():\n",
    "    \n",
    "    name = str(input(\"Enter the name \"))\n",
    "    burger = str(input(\"Enter the Type of Burger \"))\n",
    "    Qun = eval(input(\"Enter the Quantity of Burger \"))   \n",
    "    pri = eval(input(\"Enter the rate of the Burger \"))\n",
    "    total = Qun*pri\n",
    "    gst = (total/100)*13\n",
    "    total = (Qun*pri)-gst\n",
    "    \n",
    "    print(\"\\n\\t\\t\\t\\tLOS RESTURENT\")\n",
    "    print(\"\\t\\t\\tVisite our website for\")\n",
    "    print(\"\\t\\t\\t\\tonline shoping\")\n",
    "    print(\"\\t\\t\\t\\twww.losres.com\")\n",
    "    print(\"\\t\\t*****************************\")\n",
    "    print(\"\\t\\tName:\\t\\t\",name)\n",
    "    print(\"\\t\\tBurger\\t\\t\",burger)\n",
    "    print(\"\\t\\tTime\\t\\t\",strftime(\"%I:%M %p\"))\n",
    "    print(\"\\t\\t*****************************\")\n",
    "    print(\"\\t\\tQuantity of burger\\t\\t\",Qun)\n",
    "    print(\"\\t\\tprice of the burger\\t\\t\",pri)\n",
    "    print(\"\\t\\tGST 13%\\t\\t\",gst)\n",
    "    print(\"\\t\\tTotal \\t\\t\\t\",total)\n",
    "    print(\"\\t\\t*****************************\")\n",
    "    print(\"\\t\\tTHANK YOU FOR SHOPPING\")\n",
    "pos()"
   ]
  },
  {
   "cell_type": "code",
   "execution_count": 106,
   "metadata": {},
   "outputs": [
    {
     "name": "stdout",
     "output_type": "stream",
     "text": [
      "Decimal         Binary        Octal        Hexadecimal \n",
      "\n",
      "\n",
      "d:  1          b:    1         o:  1         H:  1\n",
      "d:  2          b:   10         o:  2         H:  2\n",
      "d:  3          b:   11         o:  3         H:  3\n",
      "d:  4          b:  100         o:  4         H:  4\n",
      "d:  5          b:  101         o:  5         H:  5\n",
      "d:  6          b:  110         o:  6         H:  6\n",
      "d:  7          b:  111         o:  7         H:  7\n",
      "d:  8          b: 1000         o: 10         H:  8\n",
      "d:  9          b: 1001         o: 11         H:  9\n",
      "d: 10          b: 1010         o: 12         H:  A\n"
     ]
    }
   ],
   "source": [
    "# Question no 08\n",
    "\n",
    "def numbers(x,y):\n",
    "    \n",
    "    print(\"Decimal         Binary        Octal        Hexadecimal \")\n",
    "    print(\"\\n\")\n",
    "    \n",
    "    for i in range(x,y+1):\n",
    "        binary = bin(i)\n",
    "        octal   = oct(i)\n",
    "        Hex   = hex(i)\n",
    "        print(\"d:{:3d}          b:{:5b}         o:{:3o}         H:{:3X}\".format(i,i,i,i))\n",
    "        \n",
    "numbers(1,10)"
   ]
  },
  {
   "cell_type": "code",
   "execution_count": 108,
   "metadata": {},
   "outputs": [],
   "source": [
    "# Question no 09\n",
    "\n"
   ]
  },
  {
   "cell_type": "code",
   "execution_count": 109,
   "metadata": {},
   "outputs": [
    {
     "name": "stdout",
     "output_type": "stream",
     "text": [
      "Ammount Of Petrol :2000\n",
      "Ammount of High Speed Diesel :1000\n",
      "Ammount of Low Speed Diesel :500\n",
      "Ammount of Kerosine Oil :900\n",
      "\t\tPSO\t\t\t\t\t\t\t\t\tShell\t\t\t\tAmmount in Litres\t\t\tPSO Cost\t\tShell Cost\t\tPrice Difference \n",
      "Premium Super     : 114.24\t\t\tAltron Premium: 114.24\t\t\t\t2000\t\t\t\t\t228480.0\t\t\t228480.0\t\t\t\t0.0\n",
      "HighSpeed Diesel  : 127.41\t\t\tAction+Diesel : 127.41\t\t\t\t1000\t\t\t\t\t127410.0\t\t\t127410.0\t\t\t\t0.0\n",
      "LightSpeed Diesel : 85.33\t\t\tLDO           : 85.33\t\t\t\t500\t\t\t\t\t42665.0\t\t\t42665.0\t\t\t\t0.0\n",
      "LightSpeed Diesel : 97.18\t\t\tLDO           : 97.18\t\t\t\t900\t\t\t\t\t87462.0\t\t\t87462.0\t\t\t\t0.0\n"
     ]
    }
   ],
   "source": [
    "# Question no 10\n",
    "def comparing():\n",
    "    PSOP , PSOHSD , PSOLSD , PSOKO = 114.24,127.41,85.33,97.18\n",
    "    SAP , SAD , SLDO , SSKO = 114.24,127.41,85.33,97.18\n",
    "    petrol = eval(input(\"Ammount Of Petrol :\"))\n",
    "    HDiesel = eval(input(\"Ammount of High Speed Diesel :\"))\n",
    "    LDiesel = eval(input(\"Ammount of Low Speed Diesel :\"))\n",
    "    Kerosine = eval(input(\"Ammount of Kerosine Oil :\"))\n",
    "    print(\"\\t\\tPSO\\t\\t\\t\\t\\t\\t\\t\\t\\tShell\\t\\t\\t\\tAmmount in Litres\\t\\t\\tPSO Cost\\t\\tShell Cost\\t\\tPrice Difference \")\n",
    "    print(\"Premium Super     : {0}\\t\\t\\tAltron Premium: {1}\\t\\t\\t\\t{2}\\t\\t\\t\\t\\t{3}\\t\\t\\t{4}\\t\\t\\t\\t{5}\".format(PSOP,SAP,petrol,PSOP*petrol,SAP*petrol,(PSOP-SAP)*petrol))\n",
    "    print(\"HighSpeed Diesel  : {0}\\t\\t\\tAction+Diesel : {1}\\t\\t\\t\\t{2}\\t\\t\\t\\t\\t{3}\\t\\t\\t{4}\\t\\t\\t\\t{5}\".format(PSOHSD, SAD,HDiesel, PSOHSD*HDiesel,SAD*HDiesel,(PSOHSD-SAD)*HDiesel))\n",
    "    print(\"LightSpeed Diesel : {0}\\t\\t\\tLDO           : {1}\\t\\t\\t\\t{2}\\t\\t\\t\\t\\t{3}\\t\\t\\t{4}\\t\\t\\t\\t{5}\".format(PSOLSD, SLDO,LDiesel, PSOLSD*LDiesel,SLDO*LDiesel,(PSOLSD-SLDO)*LDiesel ))\n",
    "    print(\"LightSpeed Diesel : {0}\\t\\t\\tLDO           : {1}\\t\\t\\t\\t{2}\\t\\t\\t\\t\\t{3}\\t\\t\\t{4}\\t\\t\\t\\t{5}\".format(PSOKO,SSKO,Kerosine,PSOKO*Kerosine,SSKO*Kerosine,(PSOKO-SSKO)*Kerosine))\n",
    "\n",
    "comparing()"
   ]
  }
 ],
 "metadata": {
  "kernelspec": {
   "display_name": "Python 3",
   "language": "python",
   "name": "python3"
  },
  "language_info": {
   "codemirror_mode": {
    "name": "ipython",
    "version": 3
   },
   "file_extension": ".py",
   "mimetype": "text/x-python",
   "name": "python",
   "nbconvert_exporter": "python",
   "pygments_lexer": "ipython3",
   "version": "3.7.3"
  }
 },
 "nbformat": 4,
 "nbformat_minor": 2
}
