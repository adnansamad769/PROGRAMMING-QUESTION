{
 "cells": [
  {
   "cell_type": "code",
   "execution_count": 3,
   "metadata": {},
   "outputs": [
    {
     "name": "stdout",
     "output_type": "stream",
     "text": [
      "{'Mother': 'Areeba', 'Father': 'Adeel', 'Sister': 'Anabia', 'Brother': 'Ibrahim'} \n",
      "\n",
      "{'Mother': 'Areeba', 'Father': 'Adeel', 'Sister': 'Anabia', 'Brother': 'Ibrahim', 'Grandparents': ['Dada', 'Dadi'], 'Uncle': ['Tahir', 'Aziz', 'Zohaib'], 'Aunt': ['laila', 'Zainab', 'Urooba']}\n"
     ]
    }
   ],
   "source": [
    "# Question 01\n",
    "\n",
    "family = {'Mother':'Areeba','Father':'Adeel','Sister':'Anabia','Brother':'Ibrahim'}\n",
    "print(family,\"\\n\")\n",
    "family['Grandparents'] = ['Dada','Dadi']\n",
    "family['Uncle'] = ['Tahir','Aziz','Zohaib']\n",
    "family['Aunt'] = ['laila','Zainab','Urooba']\n",
    "print(family)"
   ]
  },
  {
   "cell_type": "code",
   "execution_count": 6,
   "metadata": {},
   "outputs": [
    {
     "name": "stdout",
     "output_type": "stream",
     "text": [
      "{'Arham': ['03332423183'], 'Amir': ['03232104457'], 'Adnan': ['03232104456'], 'Omer': ['03232104454'], 'Uncle 1': ['03232104455'], 'Uncle 2': ['03455485246'], 'Samad': ['03458746541'], 'Dr Aslam': ['03216546511'], 'Ismail': ['032484654213'], 'Mustafa': ['03248745421'], 'Mujtaba': ['03368456143']}\n"
     ]
    }
   ],
   "source": [
    "# Question no 02\n",
    "\n",
    "familyno = {}\n",
    "def familyphone(name,phone):\n",
    "    familyno[name] = [phone]\n",
    "\n",
    "familyphone('Arham','03332423183')\n",
    "familyphone('Amir' ,'03232104457')\n",
    "familyphone('Adnan','03232104456')\n",
    "familyphone('Omer','03232104454')\n",
    "familyphone('Uncle 1','03232104455')\n",
    "familyphone('Uncle 2','03455485246')\n",
    "familyphone('Samad','03458746541')\n",
    "familyphone('Aehtisham','03218745412')\n",
    "familyphone('Dr Aslam','03216546511')\n",
    "familyphone('Ismail','032484654213')\n",
    "familyphone('Mustafa','03248745421')\n",
    "familyphone('Mujtaba','03368456143')\n",
    "\n",
    "def familyrejected(name):\n",
    "    del familyno[name]\n",
    "\n",
    "familyrejected('Aehtisham')\n",
    "print(familyno)"
   ]
  },
  {
   "cell_type": "code",
   "execution_count": 13,
   "metadata": {},
   "outputs": [
    {
     "name": "stdout",
     "output_type": "stream",
     "text": [
      "{'a': ['61'], 'b': ['62'], 'c': ['63'], 'd': ['64'], 'e': ['65'], 'f': ['66'], 'g': ['67'], 'h': ['68'], 'i': ['69'], 'j': ['6a'], 'k': ['6b'], 'l': ['6c'], 'm': ['6d'], 'n': ['6e'], 'o': ['6f'], 'p': ['70'], 'q': ['71'], 'r': ['72'], 's': ['73'], 't': ['74'], 'u': ['75'], 'v': ['76'], 'w': ['77'], 'x': ['78'], 'y': ['79'], 'z': ['7a']}\n"
     ]
    }
   ],
   "source": [
    "# Question no 03\n",
    "\n",
    "def hexASCII():\n",
    "    hexasi = {}\n",
    "    for i in range (97,123):\n",
    "        hexasi[chr(i)]=['{0:x}'.format(i)]\n",
    "    print(hexasi)\n",
    "hexASCII()"
   ]
  },
  {
   "cell_type": "code",
   "execution_count": null,
   "metadata": {},
   "outputs": [],
   "source": []
  },
  {
   "cell_type": "code",
   "execution_count": null,
   "metadata": {},
   "outputs": [],
   "source": []
  }
 ],
 "metadata": {
  "kernelspec": {
   "display_name": "Python 3",
   "language": "python",
   "name": "python3"
  },
  "language_info": {
   "codemirror_mode": {
    "name": "ipython",
    "version": 3
   },
   "file_extension": ".py",
   "mimetype": "text/x-python",
   "name": "python",
   "nbconvert_exporter": "python",
   "pygments_lexer": "ipython3",
   "version": "3.7.3"
  }
 },
 "nbformat": 4,
 "nbformat_minor": 2
}
