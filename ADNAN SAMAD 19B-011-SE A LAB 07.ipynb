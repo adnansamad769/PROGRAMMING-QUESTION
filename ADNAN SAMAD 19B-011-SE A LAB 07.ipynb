{
 "cells": [
  {
   "cell_type": "code",
   "execution_count": 33,
   "metadata": {},
   "outputs": [
    {
     "name": "stdout",
     "output_type": "stream",
     "text": [
      "The number of th lines are  3\n",
      "The number of charcter are  72\n",
      "The number of words are  17\n"
     ]
    }
   ],
   "source": [
    "# Question no 01\n",
    "\n",
    "def file(x):\n",
    "    infile= open(x,'r')\n",
    "    content = infile.read()\n",
    "    lines = content.count(\"\\n\")+1\n",
    "    word = content.split()\n",
    "    print(\"The number of th lines are \",lines)\n",
    "    print(\"The number of charcter are \",len(content))\n",
    "    print(\"The number of words are \",len(word))\n",
    "file('lab7.txt')"
   ]
  },
  {
   "cell_type": "code",
   "execution_count": 38,
   "metadata": {},
   "outputs": [
    {
     "name": "stdout",
     "output_type": "stream",
     "text": [
      "3\n",
      "11\n",
      "5\n",
      "4\n",
      "3\n"
     ]
    }
   ],
   "source": [
    "# question no 02\n",
    "\n",
    "def grade(x):\n",
    "    infile = open(x,'r')\n",
    "    content = infile.read()\n",
    "    g = content.split()\n",
    "    grade = ['A+','A','B','C','D']\n",
    "    for i in grade:\n",
    "        print(g.count(i))\n",
    "grade('grade.txt')\n"
   ]
  },
  {
   "cell_type": "code",
   "execution_count": 40,
   "metadata": {},
   "outputs": [
    {
     "data": {
      "text/plain": [
       "'true'"
      ]
     },
     "execution_count": 40,
     "metadata": {},
     "output_type": "execute_result"
    }
   ],
   "source": [
    "# Question no 03\n",
    "\n",
    "def duplicate(x):\n",
    "    \n",
    "    infile = open(x,'r')\n",
    "    content = infile.read()\n",
    "    word = content.split()\n",
    "    y = []\n",
    "    for i in word:\n",
    "        if i in y:\n",
    "            return ('False')\n",
    "        else:\n",
    "            c= y.append(i)\n",
    "    return ('true')\n",
    "\n",
    "duplicate('adnan.txt')\n",
    "    "
   ]
  },
  {
   "cell_type": "code",
   "execution_count": 3,
   "metadata": {},
   "outputs": [],
   "source": [
    "# Question no 04\n",
    "\n",
    "def abc(x):\n",
    "    infile = open(x,'r+')\n",
    "    content = infile.read()\n",
    "    word = content.split()\n",
    "    infile.write('\\n')\n",
    "    for i in word:\n",
    "        if len(i) ==4:\n",
    "            i ='xxxx'\n",
    "            infile.write(\"{0} \".format(i))\n",
    "        else:\n",
    "            infile.write(\"{0} \".format(i))\n",
    "abc('adnan1.txt')"
   ]
  },
  {
   "cell_type": "code",
   "execution_count": 44,
   "metadata": {},
   "outputs": [],
   "source": []
  }
 ],
 "metadata": {
  "kernelspec": {
   "display_name": "Python 3",
   "language": "python",
   "name": "python3"
  },
  "language_info": {
   "codemirror_mode": {
    "name": "ipython",
    "version": 3
   },
   "file_extension": ".py",
   "mimetype": "text/x-python",
   "name": "python",
   "nbconvert_exporter": "python",
   "pygments_lexer": "ipython3",
   "version": "3.7.3"
  }
 },
 "nbformat": 4,
 "nbformat_minor": 2
}
