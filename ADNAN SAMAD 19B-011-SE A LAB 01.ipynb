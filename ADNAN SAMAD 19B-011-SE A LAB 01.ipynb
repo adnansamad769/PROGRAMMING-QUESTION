{
 "cells": [
  {
   "cell_type": "markdown",
   "metadata": {},
   "source": [
    "### LAB 01 (INTRODUCTION TO THE PROGRAMMING)"
   ]
  },
  {
   "cell_type": "code",
   "execution_count": 3,
   "metadata": {},
   "outputs": [
    {
     "name": "stdout",
     "output_type": "stream",
     "text": [
      "The Centigrade is:  89.6\n"
     ]
    }
   ],
   "source": [
    "# Question no 1 (Converting centigrade to fahrenheit)\n",
    "Centigrade = 32\n",
    "fahrenheit = (Centigrade * 9/5) + 32      # Formula for Converting Centigrade to the fahrenheit \n",
    "print(\"The Centigrade is: \",fahrenheit)\n",
    "\n",
    "# Time taken Almost 2 minutes "
   ]
  },
  {
   "cell_type": "code",
   "execution_count": 5,
   "metadata": {},
   "outputs": [
    {
     "name": "stdout",
     "output_type": "stream",
     "text": [
      "The fahrenheit is:  32.0\n"
     ]
    }
   ],
   "source": [
    "# Question no 2 (Converting fahrenheit To Centigrade)\n",
    "fahrenheit = 89.6\n",
    "centigrade = (fahrenheit -32) * 5/9        # Formula for converting fahrenheit to centigrade\n",
    "print(\"The fahrenheit is: \",centigrade)\n",
    "\n",
    "# Time taken Almost 2 minutes"
   ]
  },
  {
   "cell_type": "code",
   "execution_count": 22,
   "metadata": {},
   "outputs": [
    {
     "name": "stdout",
     "output_type": "stream",
     "text": [
      "Enter the width: 2\n",
      "Enter the length: 2\n",
      "the area of the rectangle is:  4.0\n"
     ]
    }
   ],
   "source": [
    "# Question no 3 (Area of the rectangle)\n",
    "\n",
    "width = float(input(\"Enter the width: \"))\n",
    "length = float(input(\"Enter the length: \"))\n",
    "area = width*length\n",
    "\n",
    "print(\"the area of the rectangle is: \",area)\n",
    "\n",
    "# Time taken Almost 1:30 minutes"
   ]
  },
  {
   "cell_type": "code",
   "execution_count": 26,
   "metadata": {},
   "outputs": [
    {
     "name": "stdout",
     "output_type": "stream",
     "text": [
      "Enter the Radius: 2\n",
      "The volume of the sphere is  33.510321638291124\n"
     ]
    }
   ],
   "source": [
    "# Question no 4 (Volume of the sphere)\n",
    "\n",
    "from math import pi\n",
    "\n",
    "radius = float(input(\"Enter the Radius: \"))\n",
    "volume_of_sphere = 4/3 *pi*radius**3\n",
    "\n",
    "print(\"The volume of the sphere is \",volume_of_sphere)\n",
    "\n",
    "# Time taken 1:30 minutes"
   ]
  },
  {
   "cell_type": "code",
   "execution_count": 28,
   "metadata": {},
   "outputs": [
    {
     "name": "stdout",
     "output_type": "stream",
     "text": [
      "Enter the Your Name Adnan Samad\n",
      "ADNAN SAMAD\n",
      "adnan samad\n",
      "Adnan Samad\n"
     ]
    }
   ],
   "source": [
    "# Question no 5 (Using uppercase lowercase and titlecase function)\n",
    "\n",
    "name = str(input(\"Enter the Your Name \"))\n",
    "print(name.upper())\n",
    "print(name.lower())\n",
    "print(name.title())\n",
    "\n",
    "# Time taken Almost 30 seconds"
   ]
  }
 ],
 "metadata": {
  "kernelspec": {
   "display_name": "Python 3",
   "language": "python",
   "name": "python3"
  },
  "language_info": {
   "codemirror_mode": {
    "name": "ipython",
    "version": 3
   },
   "file_extension": ".py",
   "mimetype": "text/x-python",
   "name": "python",
   "nbconvert_exporter": "python",
   "pygments_lexer": "ipython3",
   "version": "3.7.3"
  }
 },
 "nbformat": 4,
 "nbformat_minor": 2
}
